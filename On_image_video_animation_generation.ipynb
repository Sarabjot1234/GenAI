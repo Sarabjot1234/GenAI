{
  "cells": [
    {
      "cell_type": "markdown",
      "metadata": {
        "id": "view-in-github",
        "colab_type": "text"
      },
      "source": [
        "<a href=\"https://colab.research.google.com/github/Sarabjot1234/GenAI/blob/main/On_image_video_animation_generation.ipynb\" target=\"_parent\"><img src=\"https://colab.research.google.com/assets/colab-badge.svg\" alt=\"Open In Colab\"/></a>"
      ]
    },
    {
      "cell_type": "markdown",
      "source": [
        "# **Title of the Project** : GENERATIVE AI FOR CREATING IMAGE AND GIF GENERATION\n",
        "\n",
        "\n",
        "\n",
        "\n",
        "\n",
        "\n"
      ],
      "metadata": {
        "id": "M49lstKso4R4"
      }
    },
    {
      "cell_type": "markdown",
      "source": [
        "# Project Scope and Brief Discription :\n",
        "The primary objective of this undertaking is to apply cutting-edge generative artificial intelligence methodologies to the generation of images and GIFs. The scope of work encompasses a comprehensive development of algorithms, training of models, and innovative exploration in order to generate a wide range of visual content of superior quality.\n",
        "In order to enhance the capabilities of content generation, scalability, user customization, and the integration of innovative features will be given significant priority.\n",
        "\n",
        "\n"
      ],
      "metadata": {
        "id": "ssJFs-pD6jnp"
      }
    },
    {
      "cell_type": "markdown",
      "source": [
        "* Name- Sarabjot Singh\n",
        "\n",
        " Id - 4349315\n",
        "\n",
        "* Name -Hardeep singh\n",
        "\n",
        " Id- 4349320\n",
        "\n"
      ],
      "metadata": {
        "id": "-ipdHktp9yIQ"
      }
    },
    {
      "cell_type": "markdown",
      "source": [
        "# **Detailed Project Description Cell**\n",
        "The project focuses on harnessing the power of advanced Generative AI, such as Generative Adversarial Networks (GANs) or Variational Autoencoders (VAEs), to create diverse and high-quality images and animated GIFs. The primary goal is to employ these cutting-edge algorithms to generate novel visual content autonomously. The project involves: Algorithm Implementation: Implementing state-of-the-art GANs or VAEs to generate a wide variety of images and GIFs, ensuring both quality and diversity in the produced content. Creative Exploration: Exploring innovative applications of generative AI in visual content creation to encourage creativity and uniqueness in the generated outputs. Scalability and Optimization: Developing scalable solutions capable of handling complex content generation tasks and optimizing the algorithms to cater to different user preferences and requirements. Enhancing Content Generation: Elevating content generation capabilities by leveraging these advanced generative AI techniques, contributing to advancements in creative technology across various domains.\n"
      ],
      "metadata": {
        "id": "sMu2PBUfEMb5"
      }
    },
    {
      "cell_type": "code",
      "source": [],
      "metadata": {
        "id": "JHrg4aMMlLYm"
      },
      "execution_count": null,
      "outputs": []
    },
    {
      "cell_type": "markdown",
      "source": [
        "# Objectives:\n",
        "\n",
        "The primary objective of this project is to leverage advanced Generative Artificial Intelligence techniques, particularly Generative Adversarial Networks (GANs) or Variational Autoencoders (VAEs), to autonomously generate diverse and high-quality images and animated GIFs.\n",
        "\n",
        "\n",
        "\n",
        "\n",
        "\n",
        "\n",
        "\n",
        "\n",
        "\n",
        "\n"
      ],
      "metadata": {
        "id": "LIMZbAotNgUT"
      }
    },
    {
      "cell_type": "markdown",
      "source": [
        "# Outcomes:\n",
        "\n",
        "* The project aims to create an advanced system capable of autonomously generating diverse, high-quality images and animated GIFs. This system will provide users with an innovative and scalable solution for content creation, offering a wide range of customizable outputs tailored to various creative needs and preferences.\n",
        "\n",
        "* Diverse and High-Quality Visual Content: Generation of diverse, high-resolution images and animated GIFs exhibiting quality and coherence. Creation of visually appealing content across different styles, genres, and contexts.\n",
        "\n",
        "* User-Centric Customization: Provision of customizable outputs to cater to individual preferences and specific user requirements. Incorporation of user feedback mechanisms to refine and enhance generated content over time.\n",
        "\n",
        "\n",
        "* Expected Results and Outcomes: Using the GAN model, which is powered by Replicate's capabilities, you can efficiently create a broad range of high-quality GIFs and pictures.\n",
        "\n",
        "* Replicate's application programming interfaces (APIs) simplify data access and usage from a number of sources, allowing for more in-depth analysis or model improvement.\n",
        "\n",
        "\n",
        "\n"
      ],
      "metadata": {
        "id": "ouFrlqNB6ax4"
      }
    },
    {
      "cell_type": "markdown",
      "source": [
        "# Modification /New specification Cell\n",
        "* Furthermore, a user-friendly interface will be integrated into the project to enable instantaneous modifications to be made to the generated images and GIFs. The forthcoming feature enhancement will incorporate adaptive style transfer, which will empower users to effortlessly implement a wide range of artistic styles.\n",
        "* In addition, an assessment framework will be integrated to evaluate the performance of the algorithm, guaranteeing its ability to produce visually captivating and contextually appropriate content consistently.\n",
        "\n",
        "\n",
        "## Impact:\n",
        "* Creative Industries: Enhanced Creativity: Provides new tools and opportunities for creative expression to artists, designers, and innovators.\n",
        "Design Innovation: AI-generated material encourages the discovery of fresh design ideas and creative styles.\n",
        "Streamlines content development processes in businesses such as advertising, marketing, and entertainment, possibly lowering production costs and time.\n",
        "\n",
        "* User Interaction and Experience:\n",
        "Personalization and customization: Provides customers with customisable content that caters to a variety of tastes and needs.\n",
        "Engaging Visual Experiences: Delivers visually appealing content that increases user engagement across many apps and platforms.\n",
        "\n",
        "* Digital Art and Expression: Contributes to the growth of digital art forms and their incorporation into mainstream society.\n",
        "Creativity Access: democratizes access to creative instruments, perhaps allowing for larger engagement in artistic efforts.\n",
        "\n",
        "* Economic Consequences:\n",
        "Industry Transformation: Promotes innovation in businesses that rely on visual information, with the ability to reshape corporate strategy and market approaches.\n",
        "\n",
        "* Creates new markets or niches in which AI-generated content may be used, resulting in economic potential.\n",
        "\n",
        "* Ethical and Social Concerns: Ethical Debates: Initiates debate on the role of AI in creative processes, addressing issues of authorship, ownership, and ethics.\n",
        "\n",
        "* Raising awareness about AI's impact on cultural representation and the proper usage of AI-generated material.\n",
        "\n",
        "\n",
        "\n"
      ],
      "metadata": {
        "id": "1FQxZRo5-NXM"
      }
    },
    {
      "cell_type": "markdown",
      "source": [],
      "metadata": {
        "id": "45sfrfaK-cPp"
      }
    },
    {
      "cell_type": "markdown",
      "source": [
        "# Criteria Specific Cell\n",
        "\n",
        "Employ API for efficient data interaction. Evaluate success based on model fidelity, API responsiveness, and user satisfaction, ensuring alignment with project objectives.\n",
        "\n",
        "# **Relevance**:\n",
        "Ensure the success of the project by aligning criteria-specific pieces. The inclusion of Replicate in the Generative Adversarial Network improves the quality of image and GIF production.\n",
        "Alignment with Objectives: The degree to which the project outcomes align with the initial objective of leveraging Generative AI for Image and GIF Generation.\n",
        "Applicability to Domains: Relevance of generated content to diverse domains (e.g., art, design, entertainment) and its potential real-world applications.\n",
        "\n",
        "\n",
        "# **Innovation**\n",
        "Exploration of novel applications across diverse domains including art, design, advertising, entertainment, and more.\n",
        "Encouragement of creative exploration through AI-generated content, fostering innovation in these industries.\n",
        "\n",
        "# **Technical Proficiency:**\n",
        "Algorithm Performance: An evaluation of the algorithm's effectiveness in producing high-quality, diversified visual material.\n",
        "Assessment of the system's scalability to handle growing complexity as well as adaptability across numerous platforms.\n",
        "Optimization and Customization: The extent to which the system caters to user preferences by customizing and optimizing produced results.\n",
        "\n",
        "\n",
        "# **Applications**\n",
        "* GANs vs. VAEs: Comparative Analysis in Image and GIF Generation\n",
        "* Creative Applications of Generative AI in Visual Content Creation\n",
        "* Scalability Challenges in Generative AI for Image and GIF Generation\n",
        "* Optimizing Generative Models for Varied User Preferences\n",
        "* Ethical Considerations in AI-Generated Visual Content\n",
        "* Generative AI and its Impact on Artistic Expression\n",
        "* Commercial Implications of AI-Generated Visual Content in Advertising\n",
        "* AI-Driven Visual Storytelling: Transforming Entertainment Industries\n",
        "\n",
        "\n",
        "\n",
        "\n",
        "\n"
      ],
      "metadata": {
        "id": "LZX1oiB09M9C"
      }
    },
    {
      "cell_type": "markdown",
      "source": [
        "## 1.The First steps include downloading replicate , The code below installs the Replicate Python package from pip package manager.\n"
      ],
      "metadata": {
        "id": "03xL0Alon2h6"
      }
    },
    {
      "cell_type": "code",
      "execution_count": null,
      "metadata": {
        "colab": {
          "base_uri": "https://localhost:8080/"
        },
        "id": "K-f4rzIDbk8n",
        "outputId": "a2dec421-9070-42f5-b0d0-545624aa3889"
      },
      "outputs": [
        {
          "output_type": "stream",
          "name": "stdout",
          "text": [
            "Collecting replicate\n",
            "  Downloading replicate-0.21.1-py3-none-any.whl (35 kB)\n",
            "Collecting httpx<1,>=0.21.0 (from replicate)\n",
            "  Downloading httpx-0.25.2-py3-none-any.whl (74 kB)\n",
            "\u001b[2K     \u001b[90m━━━━━━━━━━━━━━━━━━━━━━━━━━━━━━━━━━━━━━━━\u001b[0m \u001b[32m75.0/75.0 kB\u001b[0m \u001b[31m3.7 MB/s\u001b[0m eta \u001b[36m0:00:00\u001b[0m\n",
            "\u001b[?25hRequirement already satisfied: packaging in /usr/local/lib/python3.10/dist-packages (from replicate) (23.2)\n",
            "Requirement already satisfied: pydantic>1 in /usr/local/lib/python3.10/dist-packages (from replicate) (1.10.13)\n",
            "Requirement already satisfied: typing-extensions>=4.5.0 in /usr/local/lib/python3.10/dist-packages (from replicate) (4.5.0)\n",
            "Requirement already satisfied: anyio in /usr/local/lib/python3.10/dist-packages (from httpx<1,>=0.21.0->replicate) (3.7.1)\n",
            "Requirement already satisfied: certifi in /usr/local/lib/python3.10/dist-packages (from httpx<1,>=0.21.0->replicate) (2023.11.17)\n",
            "Collecting httpcore==1.* (from httpx<1,>=0.21.0->replicate)\n",
            "  Downloading httpcore-1.0.2-py3-none-any.whl (76 kB)\n",
            "\u001b[2K     \u001b[90m━━━━━━━━━━━━━━━━━━━━━━━━━━━━━━━━━━━━━━━━\u001b[0m \u001b[32m76.9/76.9 kB\u001b[0m \u001b[31m8.4 MB/s\u001b[0m eta \u001b[36m0:00:00\u001b[0m\n",
            "\u001b[?25hRequirement already satisfied: idna in /usr/local/lib/python3.10/dist-packages (from httpx<1,>=0.21.0->replicate) (3.6)\n",
            "Requirement already satisfied: sniffio in /usr/local/lib/python3.10/dist-packages (from httpx<1,>=0.21.0->replicate) (1.3.0)\n",
            "Collecting h11<0.15,>=0.13 (from httpcore==1.*->httpx<1,>=0.21.0->replicate)\n",
            "  Downloading h11-0.14.0-py3-none-any.whl (58 kB)\n",
            "\u001b[2K     \u001b[90m━━━━━━━━━━━━━━━━━━━━━━━━━━━━━━━━━━━━━━━━\u001b[0m \u001b[32m58.3/58.3 kB\u001b[0m \u001b[31m8.1 MB/s\u001b[0m eta \u001b[36m0:00:00\u001b[0m\n",
            "\u001b[?25hRequirement already satisfied: exceptiongroup in /usr/local/lib/python3.10/dist-packages (from anyio->httpx<1,>=0.21.0->replicate) (1.2.0)\n",
            "Installing collected packages: h11, httpcore, httpx, replicate\n",
            "Successfully installed h11-0.14.0 httpcore-1.0.2 httpx-0.25.2 replicate-0.21.1\n"
          ]
        }
      ],
      "source": [
        "# @title Install Replicate\n",
        "!pip install replicate"
      ]
    },
    {
      "cell_type": "markdown",
      "source": [
        "##2.For authentication, this Python code stores the Replicate API token in the environment variable.\n"
      ],
      "metadata": {
        "id": "sFTSpliVoGgA"
      }
    },
    {
      "cell_type": "code",
      "execution_count": null,
      "metadata": {
        "id": "cFmhr3PSf4G2"
      },
      "outputs": [],
      "source": [
        "API = \"r8_NQxrnq8YCYdJ3iP9tXjedGQ8T0nMxMC39Fvgt\"\n",
        "import os\n",
        "\n",
        "os.environ[\"REPLICATE_API_TOKEN\"] = API #find it here: https://replicate.com/signin?next=/account/api-tokens\n"
      ]
    },
    {
      "cell_type": "markdown",
      "source": [
        "##3. Using the Replicate platform, this code cell makes an image. The offered code uses the replicate library to build a picture based on the prompt \"Pikachu eating food\n",
        "\n",
        "\n",
        "\n",
        "\n",
        "\n"
      ],
      "metadata": {
        "id": "99b2KkrToOPY"
      }
    },
    {
      "cell_type": "code",
      "execution_count": null,
      "metadata": {
        "colab": {
          "base_uri": "https://localhost:8080/"
        },
        "id": "0zz83wA6cqSF",
        "outputId": "e71ab9fa-0a00-41af-f033-c105c593edeb"
      },
      "outputs": [
        {
          "output_type": "execute_result",
          "data": {
            "text/plain": [
              "['https://replicate.delivery/pbxt/E1leDYv9LqQPek1pyz3IWScc9tzRRsMmvEQ9HahMAhnECBfjA/out-0.png']"
            ]
          },
          "metadata": {},
          "execution_count": 3
        }
      ],
      "source": [
        "# @title Generate Image\n",
        "prompt = \"Hitler eating food\"\n",
        "import replicate\n",
        "\n",
        "output = replicate.run(\n",
        "  \"stability-ai/stable-diffusion:27b93a2413e7f36cd83da926f3656280b2931564ff050bf9575f1fdf9bcd7478\",\n",
        "  input={\"prompt\":prompt}\n",
        ")\n",
        "\n",
        "output"
      ]
    },
    {
      "cell_type": "markdown",
      "source": [
        "##4. Using the IPython picture class, the produced image is shown in this cell. The URL of the picture is obtained from the output variable obtained in the previous cell.\n",
        "\n",
        "\n",
        "\n",
        "\n",
        "\n",
        "\n",
        "\n",
        "\n",
        "\n"
      ],
      "metadata": {
        "id": "0HNTesaHoSYo"
      }
    },
    {
      "cell_type": "code",
      "execution_count": null,
      "metadata": {
        "colab": {
          "base_uri": "https://localhost:8080/",
          "height": 533
        },
        "id": "hwXEISnemCLj",
        "outputId": "3b234501-e7a5-4389-9b21-8d4af45677ce"
      },
      "outputs": [
        {
          "output_type": "execute_result",
          "data": {
            "text/html": [
              "<img src=\"https://replicate.delivery/pbxt/E1leDYv9LqQPek1pyz3IWScc9tzRRsMmvEQ9HahMAhnECBfjA/out-0.png\"/>"
            ],
            "text/plain": [
              "<IPython.core.display.Image object>"
            ]
          },
          "metadata": {},
          "execution_count": 4
        }
      ],
      "source": [
        "\n",
        "from IPython.display import Image\n",
        "output_image = output\n",
        "Image(url=output_image[0])"
      ]
    },
    {
      "cell_type": "markdown",
      "source": [
        "##5. Using an alternate paradigm, this cell makes a video or GIF animation. The user determines the first and last prompts, chooses GIF as the output format, and activates the ping-pong effect. The outcome is recorded in the output variable.\n"
      ],
      "metadata": {
        "id": "tlvYwhh7oVq_"
      }
    },
    {
      "cell_type": "code",
      "execution_count": null,
      "metadata": {
        "colab": {
          "base_uri": "https://localhost:8080/"
        },
        "id": "Misa5E4QiWNZ",
        "outputId": "f5c58509-b4ca-414b-990e-8ba85fd12432"
      },
      "outputs": [
        {
          "output_type": "execute_result",
          "data": {
            "text/plain": [
              "<generator object Prediction.output_iterator at 0x78e09f862c70>"
            ]
          },
          "metadata": {},
          "execution_count": 5
        }
      ],
      "source": [
        "# @title Video/gif/animation/Generation\n",
        "import replicate\n",
        "\n",
        "output = replicate.run(\n",
        "    \"andreasjansson/stable-diffusion-animation:ca1f5e306e5721e19c473e0d094e6603f0456fe759c10715fcd6c1b79242d4a5\",\n",
        "    input={\n",
        "        \"prompt_start\": \"Machine working\",\n",
        "        \"prompt_end\": \"Machine stopped\",\n",
        "        \"output_format\": \"gif\",\n",
        "        \"gif_ping_pong\": True\n",
        "    }\n",
        ")\n",
        "\n",
        "output\n"
      ]
    },
    {
      "cell_type": "markdown",
      "source": [
        "## 6. This box displays the link of the created video. The link is obtained from the output variable and serves as a means of obtaining and viewing the video content.\n",
        "\n",
        "\n",
        "\n",
        "\n",
        "\n",
        "\n",
        "\n"
      ],
      "metadata": {
        "id": "kNNm0SY7oY1P"
      }
    },
    {
      "cell_type": "code",
      "execution_count": null,
      "metadata": {
        "colab": {
          "base_uri": "https://localhost:8080/"
        },
        "id": "BB0LZJTyjA7Z",
        "outputId": "bda66fc6-5236-4314-93a7-6b2c9a615597"
      },
      "outputs": [
        {
          "output_type": "stream",
          "name": "stdout",
          "text": [
            "https://replicate.delivery/pbxt/dy7yH2adDRonFRzHyqqboc9khIndZAvul0weQdooAqrDkgfRA/video.gif\n"
          ]
        }
      ],
      "source": [
        "# @title generate video\n",
        "for item in output:\n",
        "     #https://replicate.com/andreasjansson/stable-diffusion-animation/versions/ca1f5e306e5721e19c473e0d094e6603f0456fe759c10715fcd6c1b79242d4a5/api#output-schema\n",
        "    print(item)"
      ]
    },
    {
      "cell_type": "markdown",
      "source": [
        "## 7. This cell contains the Univarsal Resource link of the created video, which is used later in the Colab.\n",
        "\n",
        "\n",
        "\n",
        "\n",
        "\n",
        "\n",
        "\n"
      ],
      "metadata": {
        "id": "w6fZwjtKoggI"
      }
    },
    {
      "cell_type": "code",
      "execution_count": null,
      "metadata": {
        "id": "fuPgsixhkxM4"
      },
      "outputs": [],
      "source": [
        "# @title get the video on colab\n",
        "gif_url= item[0:len(item)]"
      ]
    },
    {
      "cell_type": "markdown",
      "source": [
        " ## 8. within this section, the notebook retrieves the created video, shows it inside the notebook, and then opens the GIF that has been saved by using the PIL library. If there is an issue with getting the GIF, a notice that corresponds to the problem will be shown.\n",
        "\n",
        "\n",
        "\n",
        "\n",
        "\n",
        "\n",
        "\n"
      ],
      "metadata": {
        "id": "Hmz6QKmwUmw6"
      }
    },
    {
      "cell_type": "code",
      "execution_count": null,
      "metadata": {
        "colab": {
          "base_uri": "https://localhost:8080/",
          "height": 533
        },
        "id": "6VPPvsE3km93",
        "outputId": "d2409397-da36-4185-f7d3-6be8d28697d4"
      },
      "outputs": [
        {
          "output_type": "display_data",
          "data": {
            "text/html": [
              "<img src=\"https://replicate.delivery/pbxt/dy7yH2adDRonFRzHyqqboc9khIndZAvul0weQdooAqrDkgfRA/video.gif\"/>"
            ],
            "text/plain": [
              "<IPython.core.display.Image object>"
            ]
          },
          "metadata": {}
        }
      ],
      "source": [
        "# @title Show the video\n",
        "import requests\n",
        "from IPython.display import display, Image\n",
        "from PIL import Image as PILImage\n",
        "from io import BytesIO\n",
        "response = requests.get(gif_url)\n",
        "if response.status_code == 200:\n",
        "    # Display the GIF in the notebook\n",
        "    display(Image(url=gif_url))\n",
        "\n",
        "    # Save the GIF in the Colab environment\n",
        "    with open(\"gif_output.gif\", \"wb\") as f:\n",
        "        f.write(response.content)\n",
        "\n",
        "    # Show a saved GIF using PIL\n",
        "    saved_gif = PILImage.open(\"gif_output.gif\")\n",
        "    saved_gif.show()\n",
        "else:\n",
        "    print(\"Failed to fetch GIF\")\n"
      ]
    },
    {
      "cell_type": "markdown",
      "source": [
        "# References\n",
        "\n",
        "* Generative AI: What is it, tools, models, applications and use cases. (n.d.). Gartner. https://www.gartner.com/en/topics/generative-ai\n",
        "\n",
        "* Replicate.  Replicate. https://replicate.com/\n",
        "\n",
        "* What is generative AI and what are its applications? | Google Cloud. (n.d.). Google Cloud. https://cloud.google.com/use-cases/generative-ai\n",
        "\n",
        "* Giphy. (n.d.). Artificial Intelligence GIFs - Get the best GIF on GIPHY. GIPHY. https://giphy.com/explore/artificial-intelligence\n",
        "\n"
      ],
      "metadata": {
        "id": "_Lj16ky3-Wip"
      }
    },
    {
      "cell_type": "markdown",
      "source": [
        "***` Warm Regards`***\n",
        "---"
      ],
      "metadata": {
        "id": "LX6Dmm0EV0DT"
      }
    }
  ],
  "metadata": {
    "colab": {
      "provenance": [],
      "include_colab_link": true
    },
    "kernelspec": {
      "display_name": "Python 3",
      "name": "python3"
    },
    "language_info": {
      "name": "python"
    }
  },
  "nbformat": 4,
  "nbformat_minor": 0
}